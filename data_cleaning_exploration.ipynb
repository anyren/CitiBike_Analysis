{
 "cells": [
  {
   "cell_type": "code",
   "execution_count": null,
   "id": "7e1cb0b7",
   "metadata": {},
   "outputs": [],
   "source": [
    "import pandas as pd\n",
    "import datetime\n",
    "import os\n",
    "from pathlib import Path "
   ]
  },
  {
   "cell_type": "code",
   "execution_count": null,
   "id": "2b2146f6",
   "metadata": {},
   "outputs": [],
   "source": [
    "files = os.listdir(\"data/source\")\n",
    "# loop through files to concat into one dataset\n",
    "i = 1\n",
    "for file in files:\n",
    "    path = os.path.join(\"data/source\", file)\n",
    "    df = pd.read_csv(path)\n",
    "\n",
    "    # convert times to datetime to do a timedelta to get trip length\n",
    "    df['started_at']= pd.to_datetime(df['started_at'])\n",
    "    df['ended_at']= pd.to_datetime(df['ended_at'])\n",
    "    df['trip_length'] = (df['ended_at'] - df['started_at'])\n",
    "\n",
    "    # convert trip length to minutes since tableau doesn't understand timedelta\n",
    "    df['trip_length_min'] = (df['ended_at'] - df['started_at'])/ datetime.timedelta(minutes=1)\n",
    "\n",
    "    # break out start/end day of week\n",
    "    df['start_dow'] = df['started_at'].dt.weekday\n",
    "    df['end_dow'] = df['ended_at'].dt.weekday\n",
    "\n",
    "    #break out month\n",
    "    df['month_num'] = df['started_at'].dt.month\n",
    "\n",
    "    # keep only trips at least 1 minute long\n",
    "    df = df.loc[df['trip_length_min'] >= 1]\n",
    "\n",
    "    # create dataframe\n",
    "    if i == 1:\n",
    "        trips_2022 = df\n",
    "        print(path)\n",
    "    else:\n",
    "        trips_2022 = pd.concat([trips_2022, df])\n",
    "        print(path)\n",
    "    i += 1\n",
    "        "
   ]
  },
  {
   "cell_type": "code",
   "execution_count": null,
   "id": "a1adc81a",
   "metadata": {},
   "outputs": [],
   "source": [
    "trips_2022.head()"
   ]
  },
  {
   "cell_type": "code",
   "execution_count": null,
   "id": "577d6481",
   "metadata": {},
   "outputs": [],
   "source": [
    "filepath = Path('data/trips_2022.csv.zip')   \n",
    "trips_2022.to_csv(filepath, index=False, compression=\"zip\")"
   ]
  },
  {
   "cell_type": "code",
   "execution_count": null,
   "id": "35928e07",
   "metadata": {},
   "outputs": [],
   "source": [
    "start_station = trips_2022[['start_station_name','start_lat','start_lng']].copy()\n",
    "start_station_gb = start_station.groupby(['start_station_name'],as_index=False).size()\n",
    "start_station_gb = start_station_gb.rename(columns={\"size\":\"start_count\"})\n",
    "start_station = start_station.drop_duplicates(subset=['start_station_name'])\n",
    "start_station.head()"
   ]
  },
  {
   "cell_type": "code",
   "execution_count": null,
   "id": "56970fbb",
   "metadata": {},
   "outputs": [],
   "source": [
    "start_station_gb.head()"
   ]
  },
  {
   "cell_type": "code",
   "execution_count": null,
   "id": "9c389490",
   "metadata": {},
   "outputs": [],
   "source": [
    "start_station = pd.merge(start_station_gb, start_station, on=\"start_station_name\")"
   ]
  },
  {
   "cell_type": "code",
   "execution_count": null,
   "id": "91b0e448",
   "metadata": {},
   "outputs": [],
   "source": [
    "end_station = trips_2022[['end_station_name','end_lat','end_lng']].copy()\n",
    "end_station_gb = end_station.groupby(['end_station_name'],as_index=False).size()\n",
    "end_station_gb = end_station_gb.rename(columns={\"size\":\"end_count\"})\n",
    "end_station = end_station.drop_duplicates(subset=['end_station_name'])\n",
    "end_station.head()"
   ]
  },
  {
   "cell_type": "code",
   "execution_count": null,
   "id": "0afb69eb",
   "metadata": {},
   "outputs": [],
   "source": [
    "end_station = pd.merge(end_station_gb, end_station, on=\"end_station_name\")"
   ]
  },
  {
   "cell_type": "code",
   "execution_count": null,
   "id": "e864bfdf",
   "metadata": {
    "scrolled": true
   },
   "outputs": [],
   "source": [
    "station_counts = pd.merge(start_station, end_station, how='outer', left_on=[\"start_station_name\"], right_on=[\"end_station_name\"])\n",
    "station_counts[station_counts.isna().any(axis=1)]\n",
    "station_counts"
   ]
  },
  {
   "cell_type": "code",
   "execution_count": null,
   "id": "fb8c641a",
   "metadata": {},
   "outputs": [],
   "source": [
    "station_counts = station_counts[['end_station_name','start_count','end_count', 'end_lat','end_lng']].copy().fillna(0)\n",
    "station_counts = station_counts.rename(columns={'end_station_name':'station_name','end_lat':'lat', 'end_lng':'lng'})\n",
    "station_counts"
   ]
  },
  {
   "cell_type": "code",
   "execution_count": null,
   "id": "3d385e64",
   "metadata": {},
   "outputs": [],
   "source": [
    "filepath = Path('data/stations_2022.csv')   \n",
    "station_counts.to_csv(filepath, index=False)"
   ]
  },
  {
   "cell_type": "code",
   "execution_count": null,
   "id": "68917c7b",
   "metadata": {},
   "outputs": [],
   "source": [
    "station_counts.loc[station_counts['start_count'] == 0]"
   ]
  },
  {
   "cell_type": "code",
   "execution_count": null,
   "id": "fe8630f9",
   "metadata": {},
   "outputs": [],
   "source": [
    "trips_2022.loc[trips_2022['rideable_type'] == 'docked_bike']"
   ]
  },
  {
   "cell_type": "code",
   "execution_count": null,
   "id": "ab669d28",
   "metadata": {},
   "outputs": [],
   "source": []
  }
 ],
 "metadata": {
  "kernelspec": {
   "display_name": "Python 3 (ipykernel)",
   "language": "python",
   "name": "python3"
  },
  "language_info": {
   "codemirror_mode": {
    "name": "ipython",
    "version": 3
   },
   "file_extension": ".py",
   "mimetype": "text/x-python",
   "name": "python",
   "nbconvert_exporter": "python",
   "pygments_lexer": "ipython3",
   "version": "3.8.13"
  }
 },
 "nbformat": 4,
 "nbformat_minor": 5
}
