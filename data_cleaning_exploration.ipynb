{
 "cells": [
  {
   "cell_type": "code",
   "execution_count": 26,
   "id": "7e1cb0b7",
   "metadata": {},
   "outputs": [],
   "source": [
    "import pandas as pd\n",
    "import datetime\n",
    "import os\n",
    "from pathlib import Path "
   ]
  },
  {
   "cell_type": "code",
   "execution_count": 25,
   "id": "2b2146f6",
   "metadata": {},
   "outputs": [
    {
     "name": "stdout",
     "output_type": "stream",
     "text": [
      "data/source/JC-202203-citibike-tripdata.csv\n",
      "data/source/JC-202201-citibike-tripdata.csv\n",
      "data/source/JC-202209-citibike-tripdata.csv\n",
      "data/source/JC-202207-citbike-tripdata.csv\n",
      "data/source/JC-202205-citibike-tripdata.csv\n",
      "data/source/JC-202202-citibike-tripdata.csv\n",
      "data/source/JC-202208-citibike-tripdata.csv\n",
      "data/source/JC-202206-citibike-tripdata.csv\n",
      "data/source/JC-202204-citibike-tripdata.csv\n"
     ]
    }
   ],
   "source": [
    "files = os.listdir(\"data/source\")\n",
    "# loop through files to concat into one dataset\n",
    "i = 1\n",
    "for file in files:\n",
    "    path = os.path.join(\"data/source\", file)\n",
    "    df = pd.read_csv(path)\n",
    "\n",
    "    # convert times to datetime to do a timedelta to get trip length\n",
    "    df['started_at']= pd.to_datetime(df['started_at'])\n",
    "    df['ended_at']= pd.to_datetime(df['ended_at'])\n",
    "    df['trip_length'] = (df['ended_at'] - df['started_at'])\n",
    "\n",
    "    # convert trip length to minutes since tableau doesn't understand timedelta\n",
    "    df['trip_length_min'] = (df['ended_at'] - df['started_at'])/ datetime.timedelta(minutes=1)\n",
    "\n",
    "    # break out start/end day of week\n",
    "    df['start_dow'] = df['started_at'].dt.weekday\n",
    "    df['end_dow'] = df['ended_at'].dt.weekday\n",
    "\n",
    "    #break out month\n",
    "    df['month_num'] = df['started_at'].dt.month\n",
    "\n",
    "    # keep only trips at least 1 minute long\n",
    "    df = df.loc[df['trip_length_min'] >= 1]\n",
    "\n",
    "    # create dataframe\n",
    "    if i == 1:\n",
    "        trips_2022 = df\n",
    "        print(path)\n",
    "    else:\n",
    "        trips_2022 = pd.concat([trips_2022, df])\n",
    "        print(path)\n",
    "    i += 1\n",
    "        "
   ]
  },
  {
   "cell_type": "code",
   "execution_count": 27,
   "id": "a1adc81a",
   "metadata": {},
   "outputs": [
    {
     "data": {
      "text/html": [
       "<div>\n",
       "<style scoped>\n",
       "    .dataframe tbody tr th:only-of-type {\n",
       "        vertical-align: middle;\n",
       "    }\n",
       "\n",
       "    .dataframe tbody tr th {\n",
       "        vertical-align: top;\n",
       "    }\n",
       "\n",
       "    .dataframe thead th {\n",
       "        text-align: right;\n",
       "    }\n",
       "</style>\n",
       "<table border=\"1\" class=\"dataframe\">\n",
       "  <thead>\n",
       "    <tr style=\"text-align: right;\">\n",
       "      <th></th>\n",
       "      <th>ride_id</th>\n",
       "      <th>rideable_type</th>\n",
       "      <th>started_at</th>\n",
       "      <th>ended_at</th>\n",
       "      <th>start_station_name</th>\n",
       "      <th>start_station_id</th>\n",
       "      <th>end_station_name</th>\n",
       "      <th>end_station_id</th>\n",
       "      <th>start_lat</th>\n",
       "      <th>start_lng</th>\n",
       "      <th>end_lat</th>\n",
       "      <th>end_lng</th>\n",
       "      <th>member_casual</th>\n",
       "      <th>trip_length</th>\n",
       "      <th>trip_length_min</th>\n",
       "      <th>start_dow</th>\n",
       "      <th>end_dow</th>\n",
       "      <th>month_num</th>\n",
       "    </tr>\n",
       "  </thead>\n",
       "  <tbody>\n",
       "    <tr>\n",
       "      <th>0</th>\n",
       "      <td>3255D3E3F33CDC45</td>\n",
       "      <td>classic_bike</td>\n",
       "      <td>2022-03-18 15:38:17</td>\n",
       "      <td>2022-03-18 15:45:34</td>\n",
       "      <td>Mama Johnson Field - 4 St &amp; Jackson St</td>\n",
       "      <td>HB404</td>\n",
       "      <td>South Waterfront Walkway - Sinatra Dr &amp; 1 St</td>\n",
       "      <td>HB103</td>\n",
       "      <td>40.743140</td>\n",
       "      <td>-74.040041</td>\n",
       "      <td>40.736982</td>\n",
       "      <td>-74.027781</td>\n",
       "      <td>casual</td>\n",
       "      <td>0 days 00:07:17</td>\n",
       "      <td>7.283333</td>\n",
       "      <td>4</td>\n",
       "      <td>4</td>\n",
       "      <td>3</td>\n",
       "    </tr>\n",
       "    <tr>\n",
       "      <th>1</th>\n",
       "      <td>17FA5604A37338F9</td>\n",
       "      <td>electric_bike</td>\n",
       "      <td>2022-03-04 16:44:48</td>\n",
       "      <td>2022-03-04 16:50:45</td>\n",
       "      <td>Baldwin at Montgomery</td>\n",
       "      <td>JC020</td>\n",
       "      <td>Grove St PATH</td>\n",
       "      <td>JC005</td>\n",
       "      <td>40.723659</td>\n",
       "      <td>-74.064194</td>\n",
       "      <td>40.719586</td>\n",
       "      <td>-74.043117</td>\n",
       "      <td>member</td>\n",
       "      <td>0 days 00:05:57</td>\n",
       "      <td>5.950000</td>\n",
       "      <td>4</td>\n",
       "      <td>4</td>\n",
       "      <td>3</td>\n",
       "    </tr>\n",
       "    <tr>\n",
       "      <th>2</th>\n",
       "      <td>7DEC9ADDB8D6BBE1</td>\n",
       "      <td>electric_bike</td>\n",
       "      <td>2022-03-13 17:44:32</td>\n",
       "      <td>2022-03-13 17:54:44</td>\n",
       "      <td>Baldwin at Montgomery</td>\n",
       "      <td>JC020</td>\n",
       "      <td>Grove St PATH</td>\n",
       "      <td>JC005</td>\n",
       "      <td>40.723659</td>\n",
       "      <td>-74.064194</td>\n",
       "      <td>40.719586</td>\n",
       "      <td>-74.043117</td>\n",
       "      <td>member</td>\n",
       "      <td>0 days 00:10:12</td>\n",
       "      <td>10.200000</td>\n",
       "      <td>6</td>\n",
       "      <td>6</td>\n",
       "      <td>3</td>\n",
       "    </tr>\n",
       "    <tr>\n",
       "      <th>3</th>\n",
       "      <td>9D69F74EEF231A2E</td>\n",
       "      <td>classic_bike</td>\n",
       "      <td>2022-03-13 15:33:47</td>\n",
       "      <td>2022-03-13 15:41:22</td>\n",
       "      <td>Baldwin at Montgomery</td>\n",
       "      <td>JC020</td>\n",
       "      <td>Grove St PATH</td>\n",
       "      <td>JC005</td>\n",
       "      <td>40.723659</td>\n",
       "      <td>-74.064194</td>\n",
       "      <td>40.719586</td>\n",
       "      <td>-74.043117</td>\n",
       "      <td>member</td>\n",
       "      <td>0 days 00:07:35</td>\n",
       "      <td>7.583333</td>\n",
       "      <td>6</td>\n",
       "      <td>6</td>\n",
       "      <td>3</td>\n",
       "    </tr>\n",
       "    <tr>\n",
       "      <th>4</th>\n",
       "      <td>C84AE4A9D78A6347</td>\n",
       "      <td>classic_bike</td>\n",
       "      <td>2022-03-11 12:21:18</td>\n",
       "      <td>2022-03-11 12:33:24</td>\n",
       "      <td>Baldwin at Montgomery</td>\n",
       "      <td>JC020</td>\n",
       "      <td>Grove St PATH</td>\n",
       "      <td>JC005</td>\n",
       "      <td>40.723659</td>\n",
       "      <td>-74.064194</td>\n",
       "      <td>40.719586</td>\n",
       "      <td>-74.043117</td>\n",
       "      <td>member</td>\n",
       "      <td>0 days 00:12:06</td>\n",
       "      <td>12.100000</td>\n",
       "      <td>4</td>\n",
       "      <td>4</td>\n",
       "      <td>3</td>\n",
       "    </tr>\n",
       "  </tbody>\n",
       "</table>\n",
       "</div>"
      ],
      "text/plain": [
       "            ride_id  rideable_type          started_at            ended_at  \\\n",
       "0  3255D3E3F33CDC45   classic_bike 2022-03-18 15:38:17 2022-03-18 15:45:34   \n",
       "1  17FA5604A37338F9  electric_bike 2022-03-04 16:44:48 2022-03-04 16:50:45   \n",
       "2  7DEC9ADDB8D6BBE1  electric_bike 2022-03-13 17:44:32 2022-03-13 17:54:44   \n",
       "3  9D69F74EEF231A2E   classic_bike 2022-03-13 15:33:47 2022-03-13 15:41:22   \n",
       "4  C84AE4A9D78A6347   classic_bike 2022-03-11 12:21:18 2022-03-11 12:33:24   \n",
       "\n",
       "                       start_station_name start_station_id  \\\n",
       "0  Mama Johnson Field - 4 St & Jackson St            HB404   \n",
       "1                   Baldwin at Montgomery            JC020   \n",
       "2                   Baldwin at Montgomery            JC020   \n",
       "3                   Baldwin at Montgomery            JC020   \n",
       "4                   Baldwin at Montgomery            JC020   \n",
       "\n",
       "                               end_station_name end_station_id  start_lat  \\\n",
       "0  South Waterfront Walkway - Sinatra Dr & 1 St          HB103  40.743140   \n",
       "1                                 Grove St PATH          JC005  40.723659   \n",
       "2                                 Grove St PATH          JC005  40.723659   \n",
       "3                                 Grove St PATH          JC005  40.723659   \n",
       "4                                 Grove St PATH          JC005  40.723659   \n",
       "\n",
       "   start_lng    end_lat    end_lng member_casual     trip_length  \\\n",
       "0 -74.040041  40.736982 -74.027781        casual 0 days 00:07:17   \n",
       "1 -74.064194  40.719586 -74.043117        member 0 days 00:05:57   \n",
       "2 -74.064194  40.719586 -74.043117        member 0 days 00:10:12   \n",
       "3 -74.064194  40.719586 -74.043117        member 0 days 00:07:35   \n",
       "4 -74.064194  40.719586 -74.043117        member 0 days 00:12:06   \n",
       "\n",
       "   trip_length_min  start_dow  end_dow  month_num  \n",
       "0         7.283333          4        4          3  \n",
       "1         5.950000          4        4          3  \n",
       "2        10.200000          6        6          3  \n",
       "3         7.583333          6        6          3  \n",
       "4        12.100000          4        4          3  "
      ]
     },
     "execution_count": 27,
     "metadata": {},
     "output_type": "execute_result"
    }
   ],
   "source": [
    "trips_2022.head()"
   ]
  },
  {
   "cell_type": "code",
   "execution_count": 29,
   "id": "577d6481",
   "metadata": {},
   "outputs": [],
   "source": [
    "filepath = Path('data/trips_2022.csv')   \n",
    "trips_2022.to_csv(filepath, index=False)"
   ]
  },
  {
   "cell_type": "code",
   "execution_count": null,
   "id": "35928e07",
   "metadata": {},
   "outputs": [],
   "source": [
    "start_station = trips_2022[['start_station_name','start_lat','start_lng']].copy()\n",
    "start_station_gb = start_station.groupby(['start_station_name'],as_index=False).size()\n",
    "start_station_gb = start_station_gb.rename(columns={\"size\":\"start_count\"})\n",
    "start_station = start_station.drop_duplicates(subset=['start_station_name'])\n",
    "start_station.head()"
   ]
  },
  {
   "cell_type": "code",
   "execution_count": null,
   "id": "56970fbb",
   "metadata": {},
   "outputs": [],
   "source": [
    "start_station_gb.head()"
   ]
  },
  {
   "cell_type": "code",
   "execution_count": null,
   "id": "9c389490",
   "metadata": {},
   "outputs": [],
   "source": [
    "start_station = pd.merge(start_station_gb, start_station, on=\"start_station_name\")"
   ]
  },
  {
   "cell_type": "code",
   "execution_count": null,
   "id": "91b0e448",
   "metadata": {},
   "outputs": [],
   "source": [
    "end_station = trips_2022[['end_station_name','end_lat','end_lng']].copy()\n",
    "end_station_gb = end_station.groupby(['end_station_name'],as_index=False).size()\n",
    "end_station_gb = end_station_gb.rename(columns={\"size\":\"end_count\"})\n",
    "end_station = end_station.drop_duplicates(subset=['end_station_name'])\n",
    "end_station.head()"
   ]
  },
  {
   "cell_type": "code",
   "execution_count": null,
   "id": "0afb69eb",
   "metadata": {},
   "outputs": [],
   "source": [
    "end_station = pd.merge(end_station_gb, end_station, on=\"end_station_name\")"
   ]
  },
  {
   "cell_type": "code",
   "execution_count": null,
   "id": "e864bfdf",
   "metadata": {
    "scrolled": true
   },
   "outputs": [],
   "source": [
    "station_counts = pd.merge(start_station, end_station, how='outer', left_on=[\"start_station_name\"], right_on=[\"end_station_name\"])\n",
    "station_counts[station_counts.isna().any(axis=1)]\n",
    "station_counts"
   ]
  },
  {
   "cell_type": "code",
   "execution_count": null,
   "id": "fb8c641a",
   "metadata": {},
   "outputs": [],
   "source": [
    "station_counts = station_counts[['end_station_name','start_count','end_count', 'end_lat','end_lng']].copy().fillna(0)\n",
    "station_counts = station_counts.rename(columns={'end_station_name':'station_name','end_lat':'lat', 'end_lng':'lng'})\n",
    "station_counts"
   ]
  },
  {
   "cell_type": "code",
   "execution_count": null,
   "id": "3d385e64",
   "metadata": {},
   "outputs": [],
   "source": [
    "filepath = Path('data/stations_2022.csv')   \n",
    "station_counts.to_csv(filepath, index=False)"
   ]
  },
  {
   "cell_type": "code",
   "execution_count": null,
   "id": "68917c7b",
   "metadata": {},
   "outputs": [],
   "source": [
    "station_counts.loc[station_counts['start_count'] == 0]"
   ]
  },
  {
   "cell_type": "code",
   "execution_count": null,
   "id": "fe8630f9",
   "metadata": {},
   "outputs": [],
   "source": [
    "trips_2022.loc[trips_2022['rideable_type'] == 'docked_bike']"
   ]
  },
  {
   "cell_type": "code",
   "execution_count": null,
   "id": "ab669d28",
   "metadata": {},
   "outputs": [],
   "source": []
  }
 ],
 "metadata": {
  "kernelspec": {
   "display_name": "Python 3 (ipykernel)",
   "language": "python",
   "name": "python3"
  },
  "language_info": {
   "codemirror_mode": {
    "name": "ipython",
    "version": 3
   },
   "file_extension": ".py",
   "mimetype": "text/x-python",
   "name": "python",
   "nbconvert_exporter": "python",
   "pygments_lexer": "ipython3",
   "version": "3.8.13"
  }
 },
 "nbformat": 4,
 "nbformat_minor": 5
}
